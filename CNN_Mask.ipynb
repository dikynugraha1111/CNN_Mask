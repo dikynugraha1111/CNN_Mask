{
  "nbformat": 4,
  "nbformat_minor": 0,
  "metadata": {
    "colab": {
      "name": "submission2.ipynb",
      "provenance": [],
      "collapsed_sections": []
    },
    "kernelspec": {
      "name": "python3",
      "display_name": "Python 3"
    }
  },
  "cells": [
    {
      "cell_type": "code",
      "metadata": {
        "id": "Zm4Dt6UwdH9t"
      },
      "source": [
        "\"\"\"Kelompok Pola , CNN untuk Deteksi Masker \"\"\"\n",
        "from tensorflow.keras.models import Model\n",
        "import tensorflow as tf\n",
        "from tensorflow.keras.optimizers import RMSprop\n",
        "from tensorflow.keras.preprocessing.image import ImageDataGenerator"
      ],
      "execution_count": null,
      "outputs": []
    },
    {
      "cell_type": "code",
      "metadata": {
        "id": "WndPs-W4dPwb"
      },
      "source": [
        "#melakukan extraksi dari dataset yg telah di download di G.Drive\n",
        "import zipfile, os\n",
        "local_zip = '/content/drive/MyDrive/P.Pola/Dataset_Mask.zip'\n",
        "zip_ref = zipfile.ZipFile(local_zip, 'r')\n",
        "zip_ref.extractall('/tmp')\n",
        "zip_ref.close()"
      ],
      "execution_count": null,
      "outputs": []
    },
    {
      "cell_type": "code",
      "metadata": {
        "id": "4Of_R_oadeU9"
      },
      "source": [
        "#Mendefinisikan dari lokasi Train data serta join untuk data masker dan non masker\n",
        "base_dir='/tmp/Face Mask Dataset/Train'\n",
        "mask_dir=os.path.join(base_dir,'WithMask')\n",
        "non_mask_dir=os.path.join(base_dir,'WithoutMask')\n",
        "# scissors_dir=os.path.join(base_dir,'scissors')"
      ],
      "execution_count": null,
      "outputs": []
    },
    {
      "cell_type": "code",
      "metadata": {
        "id": "ompvg3j_df-K",
        "colab": {
          "base_uri": "https://localhost:8080/"
        },
        "outputId": "7762f75d-0142-4e34-baea-897e8440006c"
      },
      "source": [
        "#Melihat list directory dari Base Dir yang sebelumnya telah didefinisikan\n",
        "os.listdir(base_dir)"
      ],
      "execution_count": null,
      "outputs": [
        {
          "output_type": "execute_result",
          "data": {
            "text/plain": [
              "['WithoutMask', 'WithMask']"
            ]
          },
          "metadata": {
            "tags": []
          },
          "execution_count": 5
        }
      ]
    },
    {
      "cell_type": "code",
      "metadata": {
        "id": "vwbu0gtddhzq"
      },
      "source": [
        "#Mendefinisikan untuk metode\" yang ingin digunakan pada train data generator.\n",
        "train_datagen=ImageDataGenerator(\n",
        "    #Rotasi dengan range 20\n",
        "    rotation_range=20, \n",
        "    brightness_range=None,\n",
        "    #pergeseran gambar\n",
        "    shear_range=0.2,\n",
        "    #zoom gambar\n",
        "    zoom_range=0.2,\n",
        "    #fill mode ke Nearest\n",
        "    fill_mode='nearest',\n",
        "    #Melakukan flip pada horizontal\n",
        "    horizontal_flip=True,\n",
        "    #rescale dengan value 1./255\n",
        "    rescale=1./255,\n",
        "    #pasang validation split ke 0.2 => 20% data akan dipakai untuk validasi\n",
        "    validation_split=0.2\n",
        "     )\n",
        "#https://www.tensorflow.org/api_docs/python/tf/keras/preprocessing/image/ImageDataGenerator"
      ],
      "execution_count": null,
      "outputs": []
    },
    {
      "cell_type": "code",
      "metadata": {
        "id": "kID86WBfdjBx"
      },
      "source": [
        "#Mendefinisikan metode\" yang akan digunakan pada validation data generator\n",
        "validation_datagen=ImageDataGenerator(\n",
        "    #rotasi dengan value 20\n",
        "    rotation_range=20, \n",
        "    brightness_range=None,\n",
        "    #pergeseran gambar\n",
        "    shear_range=0.2,\n",
        "    #zooming gambar\n",
        "    zoom_range=0.2,\n",
        "    #fill mode ke nearest\n",
        "    fill_mode='nearest',\n",
        "    #horizontal flip ke true\n",
        "    horizontal_flip=True,\n",
        "    #rescale gambar dengan value 1./255\n",
        "    rescale=1./255,\n",
        "    #pasang validation split ke 0.2 => 20% data akan dipakai untuk validasi\n",
        "    validation_split=0.2\n",
        ")"
      ],
      "execution_count": null,
      "outputs": []
    },
    {
      "cell_type": "code",
      "metadata": {
        "id": "i3N57cyOdkf-",
        "colab": {
          "base_uri": "https://localhost:8080/"
        },
        "outputId": "034801c7-0831-4672-913f-755dc51dd9b0"
      },
      "source": [
        "#Mendefinisikan train generantor dengan metode dari train_datagen yang sebelumnya telah didefinisikan\n",
        "train_generator=train_datagen.flow_from_directory(\n",
        "    #alamat awal\n",
        "    base_dir,\n",
        "    #target size gambar pasang ke ukuran 150 x 150\n",
        "    target_size=(150,150),\n",
        "    #batch ke ukuran 4\n",
        "    batch_size=4,\n",
        "    class_mode='sparse',\n",
        "    #masukan pada subset training\n",
        "    subset='training'\n",
        ")\n",
        "validation_generator=validation_datagen.flow_from_directory(\n",
        "    #alamat awal\n",
        "    base_dir,\n",
        "    #target untuk ukuran gambar 150 x 150\n",
        "    target_size=(150,150),\n",
        "    #batch ukurang dengan 4\n",
        "    batch_size=4,\n",
        "    class_mode='sparse',\n",
        "    #masukan kedalam subset validation\n",
        "    subset='validation'\n",
        ")"
      ],
      "execution_count": null,
      "outputs": [
        {
          "output_type": "stream",
          "text": [
            "Found 8000 images belonging to 2 classes.\n",
            "Found 2000 images belonging to 2 classes.\n"
          ],
          "name": "stdout"
        }
      ]
    },
    {
      "cell_type": "code",
      "metadata": {
        "id": "hlEzqGDDdmES"
      },
      "source": [
        "#mendefinisikan model dari pada latih data. Dalam hal ini hiden layer nya\n",
        "model=tf.keras.Sequential([\n",
        "    tf.keras.layers.Conv2D(16, (3,3), activation='relu', input_shape=(150, 150, 3)),\n",
        "    tf.keras.layers.MaxPooling2D(2, 2),\n",
        "    tf.keras.layers.Conv2D(32, (3,3),activation='relu'),\n",
        "    tf.keras.layers.MaxPooling2D(2, 2),\n",
        "    tf.keras.layers.Conv2D(64, (3,3),activation='relu'),\n",
        "    tf.keras.layers.MaxPooling2D(2, 2),\n",
        "    tf.keras.layers.Conv2D(128, (3,3),activation='relu'),\n",
        "    tf.keras.layers.MaxPooling2D(2, 2),\n",
        "    tf.keras.layers.Conv2D(256, (3,3),activation='relu'),\n",
        "    tf.keras.layers.MaxPooling2D(2, 2),\n",
        "    tf.keras.layers.Flatten(),\n",
        "    tf.keras.layers.Dense(512, activation='relu'),\n",
        "    tf.keras.layers.Dense(3, activation='softmax')                       \n",
        "])"
      ],
      "execution_count": null,
      "outputs": []
    },
    {
      "cell_type": "code",
      "metadata": {
        "id": "mIRGAJJSdpDG"
      },
      "source": [
        "#compile modelnya. Dengan konfigurasi memakai sparse categorical crossentropy dan optimizer adam\n",
        "model.compile(loss='sparse_categorical_crossentropy',\n",
        "              optimizer=tf.optimizers.Adam(),\n",
        "              metrics=['accuracy'])"
      ],
      "execution_count": null,
      "outputs": []
    },
    {
      "cell_type": "code",
      "metadata": {
        "id": "-W0MiCBVdqx0",
        "colab": {
          "base_uri": "https://localhost:8080/"
        },
        "outputId": "2b9d1b42-5424-4507-935f-9a42009cc317"
      },
      "source": [
        "#melakukan latih data dengan model yang telah ditentukan sebelumnya\n",
        "model.fit(\n",
        "      train_generator,\n",
        "      steps_per_epoch=30,  # berapa batch yang akan dieksekusi pada setiap epoch\n",
        "      epochs=25,\n",
        "      validation_data=validation_generator, # menampilkan akurasi pengujian data validasi\n",
        "      validation_steps=5,  # erapa batch yang akan dieksekusi pada setiap epoch\n",
        "      verbose=1,\n",
        "      )"
      ],
      "execution_count": null,
      "outputs": [
        {
          "output_type": "stream",
          "text": [
            "Epoch 1/25\n",
            "30/30 [==============================] - 5s 149ms/step - loss: 0.6796 - accuracy: 0.6500 - val_loss: 0.4028 - val_accuracy: 0.8000\n",
            "Epoch 2/25\n",
            "30/30 [==============================] - 4s 140ms/step - loss: 0.3181 - accuracy: 0.9000 - val_loss: 0.6515 - val_accuracy: 0.7000\n",
            "Epoch 3/25\n",
            "30/30 [==============================] - 4s 140ms/step - loss: 0.4596 - accuracy: 0.8333 - val_loss: 0.3672 - val_accuracy: 0.8500\n",
            "Epoch 4/25\n",
            "30/30 [==============================] - 4s 140ms/step - loss: 0.2567 - accuracy: 0.9250 - val_loss: 0.4008 - val_accuracy: 0.9000\n",
            "Epoch 5/25\n",
            "30/30 [==============================] - 4s 140ms/step - loss: 0.3281 - accuracy: 0.8833 - val_loss: 0.1610 - val_accuracy: 0.9500\n",
            "Epoch 6/25\n",
            "30/30 [==============================] - 4s 141ms/step - loss: 0.3719 - accuracy: 0.8833 - val_loss: 0.2981 - val_accuracy: 0.9500\n",
            "Epoch 7/25\n",
            "30/30 [==============================] - 4s 140ms/step - loss: 0.2495 - accuracy: 0.9000 - val_loss: 0.1063 - val_accuracy: 1.0000\n",
            "Epoch 8/25\n",
            "30/30 [==============================] - 4s 140ms/step - loss: 0.3191 - accuracy: 0.9083 - val_loss: 0.2218 - val_accuracy: 0.9000\n",
            "Epoch 9/25\n",
            "30/30 [==============================] - 4s 139ms/step - loss: 0.3397 - accuracy: 0.8833 - val_loss: 0.3693 - val_accuracy: 0.8000\n",
            "Epoch 10/25\n",
            "30/30 [==============================] - 4s 141ms/step - loss: 0.2081 - accuracy: 0.9167 - val_loss: 0.0330 - val_accuracy: 1.0000\n",
            "Epoch 11/25\n",
            "30/30 [==============================] - 4s 141ms/step - loss: 0.4653 - accuracy: 0.8417 - val_loss: 0.4627 - val_accuracy: 0.8000\n",
            "Epoch 12/25\n",
            "30/30 [==============================] - 4s 140ms/step - loss: 0.4015 - accuracy: 0.8750 - val_loss: 0.2747 - val_accuracy: 0.8500\n",
            "Epoch 13/25\n",
            "30/30 [==============================] - 4s 140ms/step - loss: 0.3739 - accuracy: 0.8417 - val_loss: 0.3367 - val_accuracy: 0.8000\n",
            "Epoch 14/25\n",
            "30/30 [==============================] - 4s 141ms/step - loss: 0.2832 - accuracy: 0.9167 - val_loss: 0.3611 - val_accuracy: 0.8500\n",
            "Epoch 15/25\n",
            "30/30 [==============================] - 4s 139ms/step - loss: 0.2746 - accuracy: 0.8750 - val_loss: 0.3328 - val_accuracy: 0.8500\n",
            "Epoch 16/25\n",
            "30/30 [==============================] - 4s 141ms/step - loss: 0.2467 - accuracy: 0.9083 - val_loss: 0.4154 - val_accuracy: 0.8000\n",
            "Epoch 17/25\n",
            "30/30 [==============================] - 4s 141ms/step - loss: 0.2175 - accuracy: 0.9333 - val_loss: 0.1929 - val_accuracy: 0.9000\n",
            "Epoch 18/25\n",
            "30/30 [==============================] - 4s 141ms/step - loss: 0.2110 - accuracy: 0.9250 - val_loss: 0.4012 - val_accuracy: 0.9000\n",
            "Epoch 19/25\n",
            "30/30 [==============================] - 4s 141ms/step - loss: 0.2680 - accuracy: 0.8917 - val_loss: 0.1269 - val_accuracy: 0.9500\n",
            "Epoch 20/25\n",
            "30/30 [==============================] - 4s 139ms/step - loss: 0.2151 - accuracy: 0.9250 - val_loss: 0.4416 - val_accuracy: 0.8000\n",
            "Epoch 21/25\n",
            "30/30 [==============================] - 4s 139ms/step - loss: 0.2344 - accuracy: 0.9167 - val_loss: 0.2658 - val_accuracy: 0.8500\n",
            "Epoch 22/25\n",
            "30/30 [==============================] - 4s 140ms/step - loss: 0.1819 - accuracy: 0.9417 - val_loss: 0.1303 - val_accuracy: 0.9000\n",
            "Epoch 23/25\n",
            "30/30 [==============================] - 4s 140ms/step - loss: 0.2433 - accuracy: 0.8750 - val_loss: 0.1703 - val_accuracy: 0.9000\n",
            "Epoch 24/25\n",
            "30/30 [==============================] - 4s 138ms/step - loss: 0.2720 - accuracy: 0.9000 - val_loss: 0.1149 - val_accuracy: 0.9500\n",
            "Epoch 25/25\n",
            "30/30 [==============================] - 4s 140ms/step - loss: 0.1556 - accuracy: 0.9583 - val_loss: 0.0827 - val_accuracy: 0.9500\n"
          ],
          "name": "stdout"
        },
        {
          "output_type": "execute_result",
          "data": {
            "text/plain": [
              "<tensorflow.python.keras.callbacks.History at 0x7f7097a9ba10>"
            ]
          },
          "metadata": {
            "tags": []
          },
          "execution_count": 21
        }
      ]
    },
    {
      "cell_type": "code",
      "metadata": {
        "id": "cNbqPO7jdsIL",
        "colab": {
          "resources": {
            "http://localhost:8080/nbextensions/google.colab/files.js": {
              "data": "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",
              "ok": true,
              "headers": [
                [
                  "content-type",
                  "application/javascript"
                ]
              ],
              "status": 200,
              "status_text": "OK"
            }
          },
          "base_uri": "https://localhost:8080/",
          "height": 400
        },
        "outputId": "50116a8d-e952-4bba-b6c0-162b5cc1daf3"
      },
      "source": [
        "#mencoba untuk melakukan prediksi dengan melakukan inputan gambar\n",
        "import numpy as np\n",
        "from google.colab import files\n",
        "from keras.preprocessing import image\n",
        "import matplotlib.pyplot as plt\n",
        "import matplotlib.image as mpimg\n",
        "import matplotlib.pyplot as plt\n",
        "import matplotlib.image as mpimg\n",
        "%matplotlib inline\n",
        "\n",
        "uploaded = files.upload()\n",
        "\n",
        "for fn in uploaded.keys():\n",
        " \n",
        "  # predicting images\n",
        "  path = fn\n",
        "  img = image.load_img(path, target_size=(150,150))\n",
        "  imgplot = plt.imshow(img)\n",
        "  x = image.img_to_array(img)\n",
        "  x = np.expand_dims(x, axis=0)\n",
        "\n",
        "  images = np.vstack([x])\n",
        "  classes = model.predict(images,batch_size=10)\n",
        "  print(classes)\n",
        "  print(\"Hasil class Masker = \" , classes[0][0])\n",
        "  print(\"Hasil class Tanpa Masker = \" ,classes[0][1])\n",
        "  \n",
        "  if classes[0][0]==1:\n",
        "    print('Dengan Masker')\n",
        "  elif classes[0][1]==1:\n",
        "    print('Tanpa Masker')\n",
        "\n",
        "  else:\n",
        "    print('Gambar Salah')"
      ],
      "execution_count": null,
      "outputs": [
        {
          "output_type": "display_data",
          "data": {
            "text/html": [
              "\n",
              "     <input type=\"file\" id=\"files-9c4745d2-5da6-41e4-8efb-8f38c111f6f6\" name=\"files[]\" multiple disabled\n",
              "        style=\"border:none\" />\n",
              "     <output id=\"result-9c4745d2-5da6-41e4-8efb-8f38c111f6f6\">\n",
              "      Upload widget is only available when the cell has been executed in the\n",
              "      current browser session. Please rerun this cell to enable.\n",
              "      </output>\n",
              "      <script src=\"/nbextensions/google.colab/files.js\"></script> "
            ],
            "text/plain": [
              "<IPython.core.display.HTML object>"
            ]
          },
          "metadata": {
            "tags": []
          }
        },
        {
          "output_type": "stream",
          "text": [
            "Saving 130.png to 130 (8).png\n",
            "[[1. 0. 0.]]\n",
            "Hasil class Masker =  1.0\n",
            "Hasil class Tanpa Masker =  0.0\n",
            "Dengan Masker\n"
          ],
          "name": "stdout"
        },
        {
          "output_type": "display_data",
          "data": {
            "image/png": "[encoded data removed]",
            "text/plain": [
              "<Figure size 432x288 with 1 Axes>"
            ]
          },
          "metadata": {
            "tags": [],
            "needs_background": "light"
          }
        }
      ]
    },
    {
      "cell_type": "code",
      "metadata": {
        "id": "gm6FxwNmfink"
      },
      "source": [
        ""
      ],
      "execution_count": null,
      "outputs": []
    }
  ]
}